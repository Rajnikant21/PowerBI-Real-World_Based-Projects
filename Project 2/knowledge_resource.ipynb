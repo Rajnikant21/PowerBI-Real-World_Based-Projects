{
 "cells": [
  {
   "cell_type": "code",
   "execution_count": 1,
   "id": "015943cf",
   "metadata": {},
   "outputs": [],
   "source": [
    "import pandas as pd\n",
    "import faker\n",
    "\n",
    "# Create a fake data generator\n",
    "fake = faker.Faker()\n",
    "\n",
    "# Generate fake data\n",
    "data = {\n",
    "    'Document Title': [fake.sentence() for _ in range(100)],\n",
    "    'Category': [fake.word() for _ in range(100)],\n",
    "    'Author': [fake.name() for _ in range(100)],\n",
    "    'Timestamp': [fake.date_time_this_decade() for _ in range(100)],\n",
    "}\n",
    "\n",
    "# Create a Pandas DataFrame\n",
    "df = pd.DataFrame(data)\n",
    "\n",
    "# Save the data to a CSV file\n",
    "df.to_csv('knowledge_resources.csv', index=False)"
   ]
  },
  {
   "cell_type": "code",
   "execution_count": null,
   "id": "799bacc2",
   "metadata": {},
   "outputs": [],
   "source": []
  },
  {
   "cell_type": "code",
   "execution_count": null,
   "id": "0b30649f",
   "metadata": {},
   "outputs": [],
   "source": []
  }
 ],
 "metadata": {
  "kernelspec": {
   "display_name": "Python 3 (ipykernel)",
   "language": "python",
   "name": "python3"
  },
  "language_info": {
   "codemirror_mode": {
    "name": "ipython",
    "version": 3
   },
   "file_extension": ".py",
   "mimetype": "text/x-python",
   "name": "python",
   "nbconvert_exporter": "python",
   "pygments_lexer": "ipython3",
   "version": "3.8.8"
  }
 },
 "nbformat": 4,
 "nbformat_minor": 5
}
